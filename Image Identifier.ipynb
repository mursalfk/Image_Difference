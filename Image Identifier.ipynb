{
 "cells": [
  {
   "cell_type": "code",
   "execution_count": 15,
   "metadata": {},
   "outputs": [],
   "source": [
    "from PIL import Image, ImageChops\n",
    "import os, glob\n",
    "size = 1920, 1080\n",
    "img1 = Image.open(\"1.jpg\")\n",
    "img2 = Image.open(\"2.jpg\")\n",
    "diff = ImageChops.difference(img1, img2)\n",
    "if diff.getbbox():\n",
    "    diff.show()\n",
    "#     for infile in glob.glob(\"*.jpg\"):\n",
    "#         file, ext = os.path.splitext(infile)\n",
    "#         im = Image.open(infile)\n",
    "#         im.thumbnail(size)\n",
    "#         im.save(file + \".jpeg\", \"JPEG\")"
   ]
  },
  {
   "cell_type": "code",
   "execution_count": null,
   "metadata": {},
   "outputs": [],
   "source": []
  }
 ],
 "metadata": {
  "kernelspec": {
   "display_name": "Python 3",
   "language": "python",
   "name": "python3"
  },
  "language_info": {
   "codemirror_mode": {
    "name": "ipython",
    "version": 3
   },
   "file_extension": ".py",
   "mimetype": "text/x-python",
   "name": "python",
   "nbconvert_exporter": "python",
   "pygments_lexer": "ipython3",
   "version": "3.7.1"
  }
 },
 "nbformat": 4,
 "nbformat_minor": 2
}
